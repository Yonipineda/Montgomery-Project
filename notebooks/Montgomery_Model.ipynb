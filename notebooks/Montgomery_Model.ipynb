{
 "cells": [
  {
   "cell_type": "markdown",
   "metadata": {},
   "source": [
    "# Montgomery Crime Predictor Modeling\n",
    "---\n",
    "\n",
    "## Target = 'Street name'\n",
    "### Dataset Source: [dataMontgomery](https://data.montgomerycountymd.gov/Public-Safety/Crime/icn6-v9z3)\n",
    "---\n",
    "\n",
    "### Column Description of Original Dataset\n",
    "ID - Police Incident Number\n",
    "\n",
    "Offense Code - Offense_Code is the code for an offense committed within the incident as defined by the National Incident-Based Reporting System (NIBRS) of the Criminal Justice Information Services (CJIS) Division Uniform Crime Reporting (UCR) Program.\n",
    "\n",
    "CR Number - Police Report Number\n",
    "\n",
    "Dispatch Date/Time - The actual date and time a Officer was dispatched\n",
    "\n",
    "NIBRS Code - FBI NIBRS codes: National Incident-Based Reporting System (NIBRS) is an incident-based reporting system used by law enforcement agencies in the United States for collecting and reporting data on crimes. Local, state and federal agencies generate NIBRS data from their records management systems.\n",
    "\n",
    "Victims - Number of Victims\n",
    "\n",
    "Crime Name1 - Crime against Society/Person/Property or Other\n",
    "\n",
    "Crime Name2 - Describes the NIBRS_CODE\n",
    "\n",
    "Crime Name3 - Describes the OFFENSE_CODE\n",
    "\n",
    "Police District Name - Name of District (Rockville,Weaton etc.)\n",
    "\n",
    "Block Address - Address in 100 block level\n",
    "\n",
    "City - City Name\n",
    "\n",
    "State - State(Maryland)\n",
    "\n",
    "Zip Code - Zip code\n",
    "\n",
    "Agency - Assigned Police Department\n",
    "\n",
    "Place - Place description\n",
    "\n",
    "Sector - Police sector name, a subset of District\n",
    "\n",
    "Beat - Police patrol area, a subset of Sector\n",
    "\n",
    "PRA - Police Response Area, a subset of Beat\n",
    "\n",
    "Address Number - House or Business Number\n",
    "\n",
    "Street Prefix - North, South, East, West\n",
    "\n",
    "Street Name - Name of the Street\n",
    "\n",
    "Street Suffix - Quadrant (NW, SW, etc)\n",
    "\n",
    "Street Type - Ave, Drive, Road, etc\n",
    "\n",
    "Start_Date_Time - Occurred from date/time\n",
    "\n",
    "End_Date_Time - Occurred to date/time\n",
    "\n",
    "Latitude - Latitude Coordinate\n",
    "\n",
    "Longitude - Longitude Coordinate\n",
    "\n",
    "Police District Number - Major Police Boundary\n",
    "\n",
    "Location - Location Coordinate"
   ]
  },
  {
   "cell_type": "code",
   "execution_count": 1,
   "metadata": {},
   "outputs": [],
   "source": [
    "# import pandas as pd \n",
    "import os\n",
    "\n",
    "# All imports \n",
    "import pandas as pd\n",
    "import matplotlib.pyplot as plt\n",
    "import numpy as np \n",
    "import seaborn as sns\n",
    "import pandas_profiling as pp\n",
    "\n",
    "# sklearn\n",
    "from sklearn.model_selection import train_test_split\n",
    "from sklearn.pipeline import make_pipeline, Pipeline\n",
    "from sklearn.preprocessing import StandardScaler\n",
    "from sklearn.preprocessing import OneHotEncoder\n",
    "from sklearn.linear_model import LogisticRegression, LogisticRegressionCV\n",
    "from sklearn.metrics import accuracy_score\n",
    "from sklearn.impute import SimpleImputer \n",
    "from sklearn.ensemble import BaggingClassifier, RandomForestClassifier\n",
    "from sklearn.model_selection import GridSearchCV\n",
    "from sklearn.model_selection import RandomizedSearchCV\n",
    "from sklearn import tree\n",
    "from sklearn.model_selection import cross_val_score\n",
    "\n",
    "# scipy\n",
    "import scipy.stats as st\n",
    "from scipy.stats import uniform, randint\n",
    "\n",
    "from sklearn import tree\n",
    "from sklearn.model_selection import cross_val_score\n",
    "\n",
    "# pipeline\n",
    "from sklearn.pipeline import make_pipeline\n",
    "import category_encoders as ce\n",
    "from category_encoders.ordinal import OrdinalEncoder\n",
    "\n",
    "# plotly\n",
    "import plotly.express as px\n",
    "\n",
    "# date-time\n",
    "from datetime import datetime\n",
    "\n",
    "# eli5\n",
    "import eli5\n",
    "from eli5.sklearn import PermutationImportance\n",
    "\n",
    "# pdp\n",
    "from pdpbox import pdp"
   ]
  },
  {
   "cell_type": "code",
   "execution_count": 2,
   "metadata": {},
   "outputs": [],
   "source": [
    "# XGB\n",
    "from xgboost.sklearn import XGBClassifier  \n",
    "from xgboost.sklearn import XGBRegressor\n",
    "import xgboost as xgb"
   ]
  },
  {
   "cell_type": "code",
   "execution_count": 45,
   "metadata": {},
   "outputs": [],
   "source": [
    "# model loader\n",
    "import joblib"
   ]
  },
  {
   "cell_type": "code",
   "execution_count": 3,
   "metadata": {},
   "outputs": [],
   "source": [
    "# Set pandas's max row display\n",
    "pd.set_option('display.max_row',1000)\n",
    "\n",
    "# Set pandas's max column width to 50\n",
    "pd.set_option('display.max_columns',200)\n",
    "\n",
    "# Set Seaborn style to default\n",
    "sns.set_style('darkgrid')"
   ]
  },
  {
   "cell_type": "code",
   "execution_count": 4,
   "metadata": {},
   "outputs": [
    {
     "data": {
      "text/plain": [
       "'/Users/yonipineda/lambda_folder/montgomery-crime-project/Montgomery-Project/notebooks'"
      ]
     },
     "execution_count": 4,
     "metadata": {},
     "output_type": "execute_result"
    }
   ],
   "source": [
    "pwd"
   ]
  },
  {
   "cell_type": "code",
   "execution_count": 8,
   "metadata": {},
   "outputs": [],
   "source": [
    "# load cleaned df\n",
    "df = pd.read_csv('Cleaned_Crime.csv', index_col=0)"
   ]
  },
  {
   "cell_type": "code",
   "execution_count": 10,
   "metadata": {},
   "outputs": [
    {
     "name": "stdout",
     "output_type": "stream",
     "text": [
      "Assert the shape is correct: (38046, 27)\n"
     ]
    },
    {
     "data": {
      "text/html": [
       "<div>\n",
       "<style scoped>\n",
       "    .dataframe tbody tr th:only-of-type {\n",
       "        vertical-align: middle;\n",
       "    }\n",
       "\n",
       "    .dataframe tbody tr th {\n",
       "        vertical-align: top;\n",
       "    }\n",
       "\n",
       "    .dataframe thead th {\n",
       "        text-align: right;\n",
       "    }\n",
       "</style>\n",
       "<table border=\"1\" class=\"dataframe\">\n",
       "  <thead>\n",
       "    <tr style=\"text-align: right;\">\n",
       "      <th></th>\n",
       "      <th>Victims</th>\n",
       "      <th>Crime_Type</th>\n",
       "      <th>Police District Name</th>\n",
       "      <th>Block Address</th>\n",
       "      <th>City</th>\n",
       "      <th>State</th>\n",
       "      <th>Zip Code</th>\n",
       "      <th>Agency</th>\n",
       "      <th>Place</th>\n",
       "      <th>Sector</th>\n",
       "      <th>Beat</th>\n",
       "      <th>PRA</th>\n",
       "      <th>Address Number</th>\n",
       "      <th>Street Prefix</th>\n",
       "      <th>Street Name</th>\n",
       "      <th>Street Suffix</th>\n",
       "      <th>Street Type</th>\n",
       "      <th>Latitude</th>\n",
       "      <th>Longitude</th>\n",
       "      <th>Police District Number</th>\n",
       "      <th>Second</th>\n",
       "      <th>Minute</th>\n",
       "      <th>Hour</th>\n",
       "      <th>Week</th>\n",
       "      <th>Day</th>\n",
       "      <th>Month</th>\n",
       "      <th>Year</th>\n",
       "    </tr>\n",
       "  </thead>\n",
       "  <tbody>\n",
       "    <tr>\n",
       "      <td>99</td>\n",
       "      <td>1</td>\n",
       "      <td>Other</td>\n",
       "      <td>MONTGOMERY VILLAGE</td>\n",
       "      <td>700 BLK  RUSSELL AVE</td>\n",
       "      <td>GAITHERSBURG</td>\n",
       "      <td>MD</td>\n",
       "      <td>20877.0</td>\n",
       "      <td>MCPD</td>\n",
       "      <td>Parking Lot - Commercial</td>\n",
       "      <td>R</td>\n",
       "      <td>6R1</td>\n",
       "      <td>548.0</td>\n",
       "      <td>700.0</td>\n",
       "      <td>W</td>\n",
       "      <td>RUSSELL</td>\n",
       "      <td>E</td>\n",
       "      <td>AVE</td>\n",
       "      <td>39.150670</td>\n",
       "      <td>-77.204063</td>\n",
       "      <td>6D</td>\n",
       "      <td>0</td>\n",
       "      <td>42</td>\n",
       "      <td>10</td>\n",
       "      <td>43</td>\n",
       "      <td>27</td>\n",
       "      <td>10</td>\n",
       "      <td>2019</td>\n",
       "    </tr>\n",
       "    <tr>\n",
       "      <td>102</td>\n",
       "      <td>1</td>\n",
       "      <td>Crime Against Society</td>\n",
       "      <td>GERMANTOWN</td>\n",
       "      <td>Other Block Address</td>\n",
       "      <td>GERMANTOWN</td>\n",
       "      <td>MD</td>\n",
       "      <td>20874.0</td>\n",
       "      <td>MCPD</td>\n",
       "      <td>Parking Lot - Commercial</td>\n",
       "      <td>M</td>\n",
       "      <td>5M1</td>\n",
       "      <td>470.0</td>\n",
       "      <td>19700.0</td>\n",
       "      <td>W</td>\n",
       "      <td>FREDERICK</td>\n",
       "      <td>E</td>\n",
       "      <td>RD</td>\n",
       "      <td>39.178539</td>\n",
       "      <td>-77.238524</td>\n",
       "      <td>5D</td>\n",
       "      <td>0</td>\n",
       "      <td>44</td>\n",
       "      <td>21</td>\n",
       "      <td>26</td>\n",
       "      <td>1</td>\n",
       "      <td>7</td>\n",
       "      <td>2016</td>\n",
       "    </tr>\n",
       "    <tr>\n",
       "      <td>108</td>\n",
       "      <td>1</td>\n",
       "      <td>Crime Against Society</td>\n",
       "      <td>WHEATON</td>\n",
       "      <td>Other Block Address</td>\n",
       "      <td>SILVER SPRING</td>\n",
       "      <td>MD</td>\n",
       "      <td>20902.0</td>\n",
       "      <td>MCPD</td>\n",
       "      <td>Other Place</td>\n",
       "      <td>L</td>\n",
       "      <td>4L1</td>\n",
       "      <td>366.0</td>\n",
       "      <td>23600.0</td>\n",
       "      <td>W</td>\n",
       "      <td>GEORGIA</td>\n",
       "      <td>E</td>\n",
       "      <td>AVE</td>\n",
       "      <td>39.055842</td>\n",
       "      <td>-77.049960</td>\n",
       "      <td>4D</td>\n",
       "      <td>0</td>\n",
       "      <td>15</td>\n",
       "      <td>2</td>\n",
       "      <td>2</td>\n",
       "      <td>8</td>\n",
       "      <td>1</td>\n",
       "      <td>2020</td>\n",
       "    </tr>\n",
       "    <tr>\n",
       "      <td>118</td>\n",
       "      <td>1</td>\n",
       "      <td>Crime Against Society</td>\n",
       "      <td>WHEATON</td>\n",
       "      <td>Other Block Address</td>\n",
       "      <td>SILVER SPRING</td>\n",
       "      <td>MD</td>\n",
       "      <td>20902.0</td>\n",
       "      <td>MCPD</td>\n",
       "      <td>Other Place</td>\n",
       "      <td>L</td>\n",
       "      <td>4L1</td>\n",
       "      <td>536.0</td>\n",
       "      <td>12300.0</td>\n",
       "      <td>W</td>\n",
       "      <td>GEORGIA</td>\n",
       "      <td>E</td>\n",
       "      <td>AVE</td>\n",
       "      <td>39.058066</td>\n",
       "      <td>-77.050032</td>\n",
       "      <td>4D</td>\n",
       "      <td>0</td>\n",
       "      <td>27</td>\n",
       "      <td>20</td>\n",
       "      <td>26</td>\n",
       "      <td>1</td>\n",
       "      <td>7</td>\n",
       "      <td>2016</td>\n",
       "    </tr>\n",
       "    <tr>\n",
       "      <td>124</td>\n",
       "      <td>1</td>\n",
       "      <td>Crime Against Property</td>\n",
       "      <td>WHEATON</td>\n",
       "      <td>Other Block Address</td>\n",
       "      <td>SILVER SPRING</td>\n",
       "      <td>MD</td>\n",
       "      <td>20902.0</td>\n",
       "      <td>MCPD</td>\n",
       "      <td>Other Place</td>\n",
       "      <td>L</td>\n",
       "      <td>4L1</td>\n",
       "      <td>360.0</td>\n",
       "      <td>1100.0</td>\n",
       "      <td>W</td>\n",
       "      <td>UNIVERSITY</td>\n",
       "      <td>W</td>\n",
       "      <td>BLV</td>\n",
       "      <td>39.035857</td>\n",
       "      <td>-77.026918</td>\n",
       "      <td>4D</td>\n",
       "      <td>0</td>\n",
       "      <td>33</td>\n",
       "      <td>14</td>\n",
       "      <td>42</td>\n",
       "      <td>19</td>\n",
       "      <td>10</td>\n",
       "      <td>2019</td>\n",
       "    </tr>\n",
       "  </tbody>\n",
       "</table>\n",
       "</div>"
      ],
      "text/plain": [
       "     Victims              Crime_Type Police District Name  \\\n",
       "99         1                   Other   MONTGOMERY VILLAGE   \n",
       "102        1   Crime Against Society           GERMANTOWN   \n",
       "108        1   Crime Against Society              WHEATON   \n",
       "118        1   Crime Against Society              WHEATON   \n",
       "124        1  Crime Against Property              WHEATON   \n",
       "\n",
       "            Block Address           City State  Zip Code Agency  \\\n",
       "99   700 BLK  RUSSELL AVE   GAITHERSBURG    MD   20877.0   MCPD   \n",
       "102   Other Block Address     GERMANTOWN    MD   20874.0   MCPD   \n",
       "108   Other Block Address  SILVER SPRING    MD   20902.0   MCPD   \n",
       "118   Other Block Address  SILVER SPRING    MD   20902.0   MCPD   \n",
       "124   Other Block Address  SILVER SPRING    MD   20902.0   MCPD   \n",
       "\n",
       "                        Place Sector Beat    PRA  Address Number  \\\n",
       "99   Parking Lot - Commercial      R  6R1  548.0           700.0   \n",
       "102  Parking Lot - Commercial      M  5M1  470.0         19700.0   \n",
       "108               Other Place      L  4L1  366.0         23600.0   \n",
       "118               Other Place      L  4L1  536.0         12300.0   \n",
       "124               Other Place      L  4L1  360.0          1100.0   \n",
       "\n",
       "    Street Prefix Street Name Street Suffix Street Type   Latitude  Longitude  \\\n",
       "99              W     RUSSELL             E         AVE  39.150670 -77.204063   \n",
       "102             W   FREDERICK             E          RD  39.178539 -77.238524   \n",
       "108             W     GEORGIA             E         AVE  39.055842 -77.049960   \n",
       "118             W     GEORGIA             E         AVE  39.058066 -77.050032   \n",
       "124             W  UNIVERSITY             W         BLV  39.035857 -77.026918   \n",
       "\n",
       "    Police District Number  Second  Minute  Hour  Week  Day  Month  Year  \n",
       "99                      6D       0      42    10    43   27     10  2019  \n",
       "102                     5D       0      44    21    26    1      7  2016  \n",
       "108                     4D       0      15     2     2    8      1  2020  \n",
       "118                     4D       0      27    20    26    1      7  2016  \n",
       "124                     4D       0      33    14    42   19     10  2019  "
      ]
     },
     "execution_count": 10,
     "metadata": {},
     "output_type": "execute_result"
    }
   ],
   "source": [
    "# check df\n",
    "s = df.shape\n",
    "print(f\"Assert the shape is correct: {s}\")\n",
    "df.head()"
   ]
  },
  {
   "cell_type": "markdown",
   "metadata": {},
   "source": [
    "# Prediction Model \n",
    "---\n",
    "\n",
    "In the Montgomery_Cleaning notebook, There is a model with a good test score. Will use that. Maybe Ill try something new, maybe."
   ]
  },
  {
   "cell_type": "markdown",
   "metadata": {},
   "source": [
    "### Split Data"
   ]
  },
  {
   "cell_type": "code",
   "execution_count": 34,
   "metadata": {},
   "outputs": [],
   "source": [
    "# Train/test splits \n",
    "train, test = train_test_split(df, test_size=0.2, random_state=42)"
   ]
  },
  {
   "cell_type": "code",
   "execution_count": 35,
   "metadata": {},
   "outputs": [],
   "source": [
    "# train val split\n",
    "train, val = train_test_split(train, test_size=0.2, random_state=42)"
   ]
  },
  {
   "cell_type": "code",
   "execution_count": 36,
   "metadata": {},
   "outputs": [
    {
     "name": "stdout",
     "output_type": "stream",
     "text": [
      "Split Shape: Train (24348, 27), Validate (6088, 27), Test (7610, 27)\n"
     ]
    }
   ],
   "source": [
    "# checking shape\n",
    "tr = train.shape\n",
    "v = val.shape\n",
    "te = test.shape\n",
    "print(f\"Split Shape: Train {tr}, Validate {v}, Test {te}\")"
   ]
  },
  {
   "cell_type": "code",
   "execution_count": 37,
   "metadata": {},
   "outputs": [
    {
     "data": {
      "text/plain": [
       "GEORGIA          0.251602\n",
       "FREDERICK        0.159561\n",
       "VEIRS MILL       0.133481\n",
       "UNIVERSITY       0.102883\n",
       "NEW HAMPSHIRE    0.102760\n",
       "ROCKVILLE        0.095490\n",
       "COLESVILLE       0.064194\n",
       "RANDOLPH         0.045301\n",
       "RUSSELL          0.044726\n",
       "Name: Street Name, dtype: float64"
      ]
     },
     "execution_count": 37,
     "metadata": {},
     "output_type": "execute_result"
    }
   ],
   "source": [
    "# NEW TARGET: AS OF 5/30/20\n",
    "train['Street Name'].value_counts(normalize=True)"
   ]
  },
  {
   "cell_type": "code",
   "execution_count": 38,
   "metadata": {},
   "outputs": [
    {
     "data": {
      "text/plain": [
       "Index(['Victims', 'Crime_Type', 'Police District Name', 'Block Address',\n",
       "       'City', 'State', 'Zip Code', 'Agency', 'Place', 'Sector', 'Beat', 'PRA',\n",
       "       'Address Number', 'Street Prefix', 'Street Name', 'Street Suffix',\n",
       "       'Street Type', 'Latitude', 'Longitude', 'Police District Number',\n",
       "       'Second', 'Minute', 'Hour', 'Week', 'Day', 'Month', 'Year'],\n",
       "      dtype='object')"
      ]
     },
     "execution_count": 38,
     "metadata": {},
     "output_type": "execute_result"
    }
   ],
   "source": [
    "# columns\n",
    "train.columns"
   ]
  },
  {
   "cell_type": "markdown",
   "metadata": {},
   "source": [
    "### Set Features and Target"
   ]
  },
  {
   "cell_type": "code",
   "execution_count": 39,
   "metadata": {},
   "outputs": [],
   "source": [
    "# Set target and features\n",
    "target = 'Street Name'\n",
    "\n",
    "features = ['Place', 'Hour', 'Minute', 'Month', 'Victims', 'Crime_Type']\n",
    "\n",
    "#features = train.drop(columns=target).columns.tolist()\n",
    "# set train, val, test with target and feature\n",
    "X_train = train[features]\n",
    "y_train = train[target]\n",
    "X_val = val[features]\n",
    "y_val = val[target]\n",
    "X_test = test[features]\n",
    "y_test = test[target]"
   ]
  },
  {
   "cell_type": "markdown",
   "metadata": {},
   "source": [
    "### Train the data on a RandomForest model with GridSearch for hyper-param optimization. "
   ]
  },
  {
   "cell_type": "code",
   "execution_count": 40,
   "metadata": {},
   "outputs": [],
   "source": [
    "# pipe using GridSearchCV\n",
    "pipe = Pipeline([\n",
    "                        ('encoder', OrdinalEncoder()),\n",
    "                        ('imputer', SimpleImputer(strategy='median')),\n",
    "                        ('model', RandomForestClassifier())\n",
    "])"
   ]
  },
  {
   "cell_type": "code",
   "execution_count": 41,
   "metadata": {},
   "outputs": [
    {
     "name": "stdout",
     "output_type": "stream",
     "text": [
      "Best parameter (CV score=0.264):\n",
      "{'model__min_samples_leaf': 3}\n"
     ]
    }
   ],
   "source": [
    "# using GridsearchCV to get best parameters\n",
    "params = {\n",
    "    \"model__min_samples_leaf\": [1, 2, 3]\n",
    "}\n",
    "\n",
    "search = GridSearchCV(pipe, params, n_jobs=-1)\n",
    "search.fit(X_train, y_train)\n",
    "print(\"Best parameter (CV score=%0.3f):\" % search.best_score_)\n",
    "print(search.best_params_) "
   ]
  },
  {
   "cell_type": "code",
   "execution_count": 42,
   "metadata": {},
   "outputs": [],
   "source": [
    "# pipe with suggested min_sample_leaf - 3\n",
    "pipe = Pipeline([\n",
    "                        ('encoder', OrdinalEncoder()),\n",
    "                        ('imputer', SimpleImputer(strategy='median')),\n",
    "                        ('model', RandomForestClassifier(min_samples_leaf=3))\n",
    "])"
   ]
  },
  {
   "cell_type": "code",
   "execution_count": 43,
   "metadata": {},
   "outputs": [
    {
     "name": "stdout",
     "output_type": "stream",
     "text": [
      "CPU times: user 477 ms, sys: 19.5 ms, total: 496 ms\n",
      "Wall time: 509 ms\n"
     ]
    },
    {
     "data": {
      "text/plain": [
       "Pipeline(memory=None,\n",
       "         steps=[('encoder',\n",
       "                 OrdinalEncoder(cols=['Place', 'Crime_Type'],\n",
       "                                drop_invariant=False, handle_missing='value',\n",
       "                                handle_unknown='value',\n",
       "                                mapping=[{'col': 'Place',\n",
       "                                          'data_type': dtype('O'),\n",
       "                                          'mapping': Other Place                     1\n",
       "Residence - Apartment/Condo     2\n",
       "Parking Lot - Commercial        3\n",
       "Street - In vehicle             4\n",
       "Residence - Single Family       5\n",
       "Other/Unknown                   6\n",
       "Parking Lot - Residential       7\n",
       "Street - R...\n",
       "                 RandomForestClassifier(bootstrap=True, class_weight=None,\n",
       "                                        criterion='gini', max_depth=None,\n",
       "                                        max_features='auto',\n",
       "                                        max_leaf_nodes=None,\n",
       "                                        min_impurity_decrease=0.0,\n",
       "                                        min_impurity_split=None,\n",
       "                                        min_samples_leaf=3, min_samples_split=2,\n",
       "                                        min_weight_fraction_leaf=0.0,\n",
       "                                        n_estimators=10, n_jobs=None,\n",
       "                                        oob_score=False, random_state=None,\n",
       "                                        verbose=0, warm_start=False))],\n",
       "         verbose=False)"
      ]
     },
     "execution_count": 43,
     "metadata": {},
     "output_type": "execute_result"
    }
   ],
   "source": [
    "# fit pipe\n",
    "X_train_cat = pd.concat([X_train, X_val])\n",
    "y_train_cat = pd.concat([y_train, y_val])\n",
    "%time pipe.fit(X_train_cat, y_train_cat)"
   ]
  },
  {
   "cell_type": "code",
   "execution_count": 44,
   "metadata": {},
   "outputs": [
    {
     "name": "stdout",
     "output_type": "stream",
     "text": [
      "Validation Accuracy: 0.562910643889619\n"
     ]
    }
   ],
   "source": [
    "# check score\n",
    "print('Validation Accuracy:', pipe.score(X_val, y_val))"
   ]
  },
  {
   "cell_type": "code",
   "execution_count": 47,
   "metadata": {},
   "outputs": [
    {
     "data": {
      "text/plain": [
       "Pipeline(memory=None,\n",
       "         steps=[('encoder',\n",
       "                 OrdinalEncoder(cols=['Place', 'Crime_Type'],\n",
       "                                drop_invariant=False, handle_missing='value',\n",
       "                                handle_unknown='value',\n",
       "                                mapping=[{'col': 'Place',\n",
       "                                          'data_type': dtype('O'),\n",
       "                                          'mapping': Other Place                     1\n",
       "Residence - Apartment/Condo     2\n",
       "Parking Lot - Commercial        3\n",
       "Street - In vehicle             4\n",
       "Residence - Single Family       5\n",
       "Other/Unknown                   6\n",
       "Parking Lot - Residential       7\n",
       "Street - R...\n",
       "                 RandomForestClassifier(bootstrap=True, class_weight=None,\n",
       "                                        criterion='gini', max_depth=None,\n",
       "                                        max_features='auto',\n",
       "                                        max_leaf_nodes=None,\n",
       "                                        min_impurity_decrease=0.0,\n",
       "                                        min_impurity_split=None,\n",
       "                                        min_samples_leaf=3, min_samples_split=2,\n",
       "                                        min_weight_fraction_leaf=0.0,\n",
       "                                        n_estimators=10, n_jobs=None,\n",
       "                                        oob_score=False, random_state=None,\n",
       "                                        verbose=0, warm_start=False))],\n",
       "         verbose=False)"
      ]
     },
     "execution_count": 47,
     "metadata": {},
     "output_type": "execute_result"
    }
   ],
   "source": [
    "# Fitting the model to the test dataset\n",
    "pipe.fit(X_test, y_test)"
   ]
  },
  {
   "cell_type": "code",
   "execution_count": 48,
   "metadata": {},
   "outputs": [],
   "source": [
    "# Predict our test sample using pipe4\n",
    "y_pred = pipe.predict(X_test)"
   ]
  },
  {
   "cell_type": "code",
   "execution_count": 49,
   "metadata": {},
   "outputs": [
    {
     "name": "stdout",
     "output_type": "stream",
     "text": [
      "Test Score Using RandomForestClassifier W/ GridSearchCV: 0.5909329829172142\n"
     ]
    }
   ],
   "source": [
    "# Test score\n",
    "# Test score = ~59%\n",
    "print('Test Score Using RandomForestClassifier W/ GridSearchCV:', accuracy_score(y_test, y_pred))"
   ]
  },
  {
   "cell_type": "code",
   "execution_count": 50,
   "metadata": {},
   "outputs": [
    {
     "data": {
      "text/plain": [
       "['finalized_model.joblib']"
      ]
     },
     "execution_count": 50,
     "metadata": {},
     "output_type": "execute_result"
    }
   ],
   "source": [
    "# model dumped \n",
    "filename = 'finalized_model.joblib'\n",
    "joblib.dump(pipe, filename)"
   ]
  }
 ],
 "metadata": {
  "kernelspec": {
   "display_name": "Python 3",
   "language": "python",
   "name": "python3"
  },
  "language_info": {
   "codemirror_mode": {
    "name": "ipython",
    "version": 3
   },
   "file_extension": ".py",
   "mimetype": "text/x-python",
   "name": "python",
   "nbconvert_exporter": "python",
   "pygments_lexer": "ipython3",
   "version": "3.7.4"
  }
 },
 "nbformat": 4,
 "nbformat_minor": 4
}
